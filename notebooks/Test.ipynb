{
 "cells": [
  {
   "cell_type": "code",
   "execution_count": null,
   "id": "37cdf202",
   "metadata": {},
   "outputs": [],
   "source": [
    "!pip install catboost matplotlib pandas scikit-learn kaggle optuna ipywidgets kaleido shap jupyterlab-rise"
   ]
  },
  {
   "cell_type": "code",
   "execution_count": 4,
   "id": "789305c7",
   "metadata": {},
   "outputs": [
    {
     "name": "stderr",
     "output_type": "stream",
     "text": [
      "Nie mo�na odnale�� okre�lonego pliku.\n"
     ]
    }
   ],
   "source": [
    "!dir \"..\\..\\..\\home\\vscode\""
   ]
  },
  {
   "cell_type": "code",
   "execution_count": 5,
   "id": "d6a6cc47",
   "metadata": {},
   "outputs": [
    {
     "name": "stdout",
     "output_type": "stream",
     "text": [
      " Volume in drive C has no label.\n",
      " Volume Serial Number is C455-2446\n",
      "\n",
      " Directory of c:\\Users\\Karolina\\Desktop\\Studia mgr\\Podyplom�wka\\MLOps\\MLOps-Filnal-Assignment\\notebooks\\data\n",
      "\n"
     ]
    },
    {
     "name": "stderr",
     "output_type": "stream",
     "text": [
      "File Not Found\n"
     ]
    }
   ],
   "source": [
    "!dir \"./data/titanic\""
   ]
  },
  {
   "cell_type": "code",
   "execution_count": 12,
   "id": "34a85cff",
   "metadata": {},
   "outputs": [
    {
     "name": "stderr",
     "output_type": "stream",
     "text": [
      "\u001b[32m2025-05-15 20:34:58.033\u001b[0m | \u001b[1mINFO    \u001b[0m | \u001b[36mDSML.config\u001b[0m:\u001b[36m<module>\u001b[0m:\u001b[36m10\u001b[0m - \u001b[1mPROJ_ROOT path is: C:\\Users\\Karolina\\Desktop\\Studia mgr\\Podyplomówka\\MLOps\\MLOps-Filnal-Assignment\u001b[0m\n"
     ]
    },
    {
     "name": "stdout",
     "output_type": "stream",
     "text": [
      "Zapisano do: C:\\Users\\Karolina\\Desktop\\Studia mgr\\Podyplomówka\\MLOps\\MLOps-Filnal-Assignment\\data\\raw\\Employee.csv\n"
     ]
    }
   ],
   "source": [
    "# notebooks/your_notebook.ipynb\n",
    "import kagglehub\n",
    "import pandas as pd\n",
    "from pathlib import Path\n",
    "import sys\n",
    "\n",
    "# Fix imports (wybierz jedną metodę)\n",
    "sys.path.append(str(Path.cwd().parent))  # METODA 1\n",
    "from DSML.config import RAW_DATA_DIR\n",
    "\n",
    "# Pobieranie danych\n",
    "dataset_path = kagglehub.dataset_download(\"tawfikelmetwally/employee-dataset\")\n",
    "df = pd.read_csv(Path(dataset_path) / \"Employee.csv\")\n",
    "\n",
    "# Zapis do RAW_DATA_DIR\n",
    "RAW_DATA_DIR.mkdir(parents=True, exist_ok=True)\n",
    "output_path = RAW_DATA_DIR / \"Employee.csv\"\n",
    "df.to_csv(output_path, index=False)\n",
    "\n",
    "print(f\"Zapisano do: {output_path.absolute()}\")"
   ]
  },
  {
   "cell_type": "code",
   "execution_count": 8,
   "id": "3e876971",
   "metadata": {},
   "outputs": [
    {
     "name": "stdout",
     "output_type": "stream",
     "text": [
      "data\\raw\\Employee.csv\n"
     ]
    }
   ],
   "source": [
    "print(output_path)"
   ]
  },
  {
   "cell_type": "code",
   "execution_count": null,
   "id": "d0d70f4d",
   "metadata": {},
   "outputs": [],
   "source": [
    "import pandas as pd\n",
    "\n",
    "df_train = pd.read_csv(\"data\\raw\\train.csv\")\n",
    "#df_ids = df_train.pop(\"PassengerId\")  # set aside PassengerId\n",
    "\n",
    "df_train.sample(10)"
   ]
  },
  {
   "cell_type": "code",
   "execution_count": 13,
   "id": "e1ecbd3b",
   "metadata": {},
   "outputs": [
    {
     "ename": "ImportError",
     "evalue": "cannot import name 'categories_mapping' from 'DSML.config' (c:\\Users\\Karolina\\Desktop\\Studia mgr\\Podyplomówka\\MLOps\\MLOps-Filnal-Assignment\\DSML\\config.py)",
     "output_type": "error",
     "traceback": [
      "\u001b[31m---------------------------------------------------------------------------\u001b[39m",
      "\u001b[31mImportError\u001b[39m                               Traceback (most recent call last)",
      "\u001b[36mCell\u001b[39m\u001b[36m \u001b[39m\u001b[32mIn[13]\u001b[39m\u001b[32m, line 9\u001b[39m\n\u001b[32m      6\u001b[39m \u001b[38;5;28;01mfrom\u001b[39;00m\u001b[38;5;250m \u001b[39m\u001b[34;01mloguru\u001b[39;00m\u001b[38;5;250m \u001b[39m\u001b[38;5;28;01mimport\u001b[39;00m logger\n\u001b[32m      7\u001b[39m \u001b[38;5;28;01mimport\u001b[39;00m\u001b[38;5;250m \u001b[39m\u001b[34;01mpandas\u001b[39;00m\u001b[38;5;250m \u001b[39m\u001b[38;5;28;01mas\u001b[39;00m\u001b[38;5;250m \u001b[39m\u001b[34;01mpd\u001b[39;00m\n\u001b[32m----> \u001b[39m\u001b[32m9\u001b[39m \u001b[38;5;28;01mfrom\u001b[39;00m\u001b[38;5;250m \u001b[39m\u001b[34;01mDSML\u001b[39;00m\u001b[34;01m.\u001b[39;00m\u001b[34;01mconfig\u001b[39;00m\u001b[38;5;250m \u001b[39m\u001b[38;5;28;01mimport\u001b[39;00m (\n\u001b[32m     10\u001b[39m     DATASET,\n\u001b[32m     11\u001b[39m     DATASET_TEST,\n\u001b[32m     12\u001b[39m     PROCESSED_DATA_DIR,\n\u001b[32m     13\u001b[39m     RAW_DATA_DIR,\n\u001b[32m     14\u001b[39m     categorical,\n\u001b[32m     15\u001b[39m     categories_mapping,\n\u001b[32m     16\u001b[39m )\n",
      "\u001b[31mImportError\u001b[39m: cannot import name 'categories_mapping' from 'DSML.config' (c:\\Users\\Karolina\\Desktop\\Studia mgr\\Podyplomówka\\MLOps\\MLOps-Filnal-Assignment\\DSML\\config.py)"
     ]
    }
   ],
   "source": [
    "import os\n",
    "from pathlib import Path\n",
    "import zipfile\n",
    "\n",
    "from kaggle.api.kaggle_api_extended import KaggleApi\n",
    "from loguru import logger\n",
    "import pandas as pd\n",
    "\n",
    "from DSML.config import (\n",
    "    DATASET,\n",
    "    DATASET_TEST,\n",
    "    PROCESSED_DATA_DIR,\n",
    "    RAW_DATA_DIR,\n",
    "    categorical,\n",
    "    categories_mapping,\n",
    ")\n"
   ]
  },
  {
   "cell_type": "code",
   "execution_count": 2,
   "id": "0ff26d4f",
   "metadata": {},
   "outputs": [],
   "source": [
    "%load_ext autoreload\n",
    "%autoreload 2"
   ]
  },
  {
   "cell_type": "code",
   "execution_count": 2,
   "id": "7e809162",
   "metadata": {},
   "outputs": [],
   "source": [
    "import os\n",
    "from pathlib import Path\n",
    "container_check = os.getenv(\"iscontainer\")\n",
    "if container_check==\"y\":\n",
    "    config_dir = Path(\"/home/vscode/.config/kaggle\")\n",
    "    config_dir.mkdir(parents=True, exist_ok=True)\n",
    "\n",
    "    with open(config_dir / \"kaggle.json\", \"w\") as dst:\n",
    "        with open(\"../kaggle.json\", \"r\") as src:\n",
    "            dst.write(src.read())"
   ]
  },
  {
   "cell_type": "code",
   "execution_count": 15,
   "id": "6869db39",
   "metadata": {},
   "outputs": [],
   "source": [
    "import os\n",
    "import sys\n",
    "\n",
    "sys.path.append(os.path.abspath(\"..\"))\n",
    "\n",
    "from DSML.config import RAW_DATA_DIR, categorical, target\n",
    "from DSML.preproc import get_raw_data"
   ]
  },
  {
   "cell_type": "code",
   "execution_count": 11,
   "id": "e2a4cae4",
   "metadata": {},
   "outputs": [
    {
     "data": {
      "text/plain": [
       "'b95c2fc8cc857fc9567885fcfae977f52e68cb10'"
      ]
     },
     "execution_count": 11,
     "metadata": {},
     "output_type": "execute_result"
    }
   ],
   "source": [
    "from DSML.helpers import get_active_branch_name, get_git_commit_hash\n",
    "\n",
    "get_active_branch_name(\"..\")  # need \"..\" because we are not in root\n",
    "get_git_commit_hash()"
   ]
  },
  {
   "cell_type": "code",
   "execution_count": 16,
   "id": "378af3a9",
   "metadata": {},
   "outputs": [
    {
     "name": "stderr",
     "output_type": "stream",
     "text": [
      "\u001b[32m2025-05-17 17:08:02.144\u001b[0m | \u001b[1mINFO    \u001b[0m | \u001b[36mDSML.preproc\u001b[0m:\u001b[36mget_raw_data\u001b[0m:\u001b[36m4\u001b[0m - \u001b[1mRAW_DATA_DIR is: C:\\Users\\Karolina\\Desktop\\Studia mgr\\Podyplomówka\\MLOps\\MLOps-Filnal-Assignment\\data\\raw\u001b[0m\n"
     ]
    },
    {
     "name": "stdout",
     "output_type": "stream",
     "text": [
      "Dataset URL: https://www.kaggle.com/datasets/tawfikelmetwally/employee-dataset\n",
      " Volume in drive C has no label.\n",
      " Volume Serial Number is C455-2446\n",
      "\n",
      " Directory of C:\\Users\\Karolina\\Desktop\\Studia mgr\\Podyplom�wka\\MLOps\\MLOps-Filnal-Assignment\\data\\raw\n",
      "\n",
      "17.05.2025  17:08    <DIR>          .\n",
      "17.05.2025  17:08    <DIR>          ..\n",
      "14.05.2025  20:32                 0 .gitkeep\n",
      "17.05.2025  17:08           195�247 Employee.csv\n",
      "               2 File(s)        195�247 bytes\n",
      "               2 Dir(s)  662�857�129�984 bytes free\n"
     ]
    }
   ],
   "source": [
    "get_raw_data()\n",
    "!dir \"{RAW_DATA_DIR}\""
   ]
  },
  {
   "cell_type": "code",
   "execution_count": 14,
   "id": "676ec657",
   "metadata": {},
   "outputs": [
    {
     "name": "stdout",
     "output_type": "stream",
     "text": [
      "Zapis danych do: c:\\Users\\Karolina\\Desktop\\Studia mgr\\Podyplomówka\\MLOps\\data\\raw\n",
      "Dataset URL: https://www.kaggle.com/datasets/tawfikelmetwally/employee-dataset\n"
     ]
    }
   ],
   "source": [
    "import os\n",
    "from pathlib import Path\n",
    "from kaggle.api.kaggle_api_extended import KaggleApi\n",
    "\n",
    "# Ścieżka względem głównego folderu projektu (nie notebooka!)\n",
    "#PROJECT_ROOT = Path(__file__).resolve().parents[1]  # Dla .py\n",
    "# Dla notebooka używamy:\n",
    "PROJECT_ROOT = Path.cwd().parents[1] if \"notebooks\" in Path.cwd().parts else Path.cwd()\n",
    "\n",
    "RAW_DATA_DIR = PROJECT_ROOT / \"data\" / \"raw\"\n",
    "RAW_DATA_DIR.mkdir(parents=True, exist_ok=True)\n",
    "\n",
    "print(f\"Zapis danych do: {RAW_DATA_DIR}\")\n",
    "\n",
    "api = KaggleApi()\n",
    "api.authenticate()\n",
    "\n",
    "api.dataset_download_files(\n",
    "    dataset=\"tawfikelmetwally/employee-dataset\",\n",
    "    path=str(RAW_DATA_DIR),\n",
    "    unzip=True\n",
    ")"
   ]
  }
 ],
 "metadata": {
  "kernelspec": {
   "display_name": ".venv",
   "language": "python",
   "name": "python3"
  },
  "language_info": {
   "codemirror_mode": {
    "name": "ipython",
    "version": 3
   },
   "file_extension": ".py",
   "mimetype": "text/x-python",
   "name": "python",
   "nbconvert_exporter": "python",
   "pygments_lexer": "ipython3",
   "version": "3.11.9"
  }
 },
 "nbformat": 4,
 "nbformat_minor": 5
}
